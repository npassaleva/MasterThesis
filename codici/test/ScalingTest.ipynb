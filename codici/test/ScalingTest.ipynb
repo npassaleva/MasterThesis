{
 "cells": [
  {
   "cell_type": "code",
   "execution_count": 1,
   "metadata": {},
   "outputs": [],
   "source": [
    "import os, sys\n",
    "from os.path import exists as file_exists\n",
    "import numpy as np\n",
    "import emcee\n",
    "import zeus\n",
    "import dynesty\n",
    "from dynesty import plotting as dyplot\n",
    "from dynesty import utils as dyu\n",
    "import matplotlib.pyplot as plt\n",
    "from scipy.optimize import minimize\n",
    "import corner\n",
    "from IPython.display import display, Math\n",
    "from chainconsumer import ChainConsumer\n",
    "import time\n",
    "import h5py"
   ]
  },
  {
   "cell_type": "code",
   "execution_count": 2,
   "metadata": {},
   "outputs": [],
   "source": [
    "#Load data from file, check if the data file is in the same directory of the code.\n",
    "\n",
    "data_file = \"HzTable_2020.dat\"\n",
    "z, Hz, errHz = np.genfromtxt(data_file, comments='#', usecols=(0,1,2), unpack=True, delimiter=',')\n",
    "ref = np.genfromtxt(data_file, comments='#', usecols=(3), unpack=True, dtype=str, delimiter=',')"
   ]
  },
  {
   "cell_type": "code",
   "execution_count": 3,
   "metadata": {},
   "outputs": [],
   "source": [
    "#Number of parameters to estimate\n",
    "ndim = 5\n",
    "\n",
    "#True values\n",
    "\n",
    "#Planck\n",
    "H0_pl = 67.37 \n",
    "errH0_pl = 0.54\n",
    "Omegam_pl = 0.308\n",
    "Omegal_pl = 1 - Omegam_pl\n",
    "w0 = -1\n",
    "wa = 0\n",
    "planck=[H0_pl, Omegam_pl, Omegal_pl, w0, wa]\n",
    "\n",
    "#Labels and parameters for plots\n",
    "labels = [r\"H_0\", r\"\\Omega_m\", r\"\\Omega_\\Lambda\", r\"w_0\", r\"w_a\"]\n",
    "lab = [r\"$H_0$\", r\"$\\Omega_m$\", r\"$\\Omega_\\Lambda$\", r\"$w_0$\", r\"$w_a$\"]\n",
    "\n",
    "z0 = np.linspace(0,2.2,500)"
   ]
  },
  {
   "cell_type": "code",
   "execution_count": 4,
   "metadata": {},
   "outputs": [],
   "source": [
    "#Definition of the probability functions\n",
    "\n",
    "#Model to fit\n",
    "\"\"\"\n",
    "#LCDM\n",
    "def Hzmodel(p):\n",
    "    H0, Omegam = p\n",
    "    return H0*np.sqrt(Omegam*(1+z)**3+(1-Omegam))\n",
    "\"\"\"\n",
    "#w0waCDM\n",
    "def Hzmodel(p):\n",
    "    H0, Omegam, Omegal, w0, wa = p\n",
    "    return H0*np.sqrt(Omegam*(1+z)**3+Omegal*((1+z)**(3+(1+w0+wa)))*np.exp(-3*wa*z/(z+1))\n",
    "                      +(1-Omegam-Omegal)*(1+z)**2)\n",
    "\n",
    "#Log-Likelihood\n",
    "def lnlike(p):\n",
    "    residual=Hz-Hzmodel(p)\n",
    "    return -0.5 * np.sum(residual**2/errHz**2)\n",
    "\n",
    "#def lnlike(p, zHz, Hz, inv_cov_matr):\n",
    "#    chi2=0.\n",
    "#    residual=Hz-Hzmodel(p, zHz)\n",
    "#    for i in range(0, len(zHz)):\n",
    "#            for j in range(0, len(zHz)):\n",
    "#                chi2=chi2+((residual[i])*inv_cov_matr[i,j]*(residual[j]))\n",
    "#    \n",
    "#    return -0.5 * chi2\n",
    "\n",
    "\"\"\"\n",
    "#Prior LCDM\n",
    "\n",
    "#Log-prior for mcmc sampling\n",
    "def lnflatprior_mcmc(p):\n",
    "    H0, Omegam = p\n",
    "            \n",
    "    if (50. < H0 < 100. and 0.01 < Omegam < 0.99):\n",
    "        return 0.0\n",
    "    return -np.inf\n",
    "    \n",
    "#       def lnprior(p):\n",
    "#           H0, Omegam = p\n",
    "#           if (50. < H0 < 100. and 0.01 < Omegam < 0.99 and -3.0 < w0 < 0.0 and -5.0 < wa < 5.0):\n",
    "#              return -0.5 * (np.sum(((Omegam-Omegam_fid)/errOmegam_fid)**2)+np.sum(((H0-H0_fid)/errH0_fid)**2))\n",
    "#       return -np.inf\n",
    "\n",
    "#Log-prior for nested sampling\n",
    "def lnflatprior_nested(u):\n",
    "    uH0, uOmegam = u\n",
    "    \n",
    "    H0 = 50 * uH0 + 50\n",
    "    Omegam = 0.98 * uOmegam + 0.01\n",
    "    \n",
    "    return H0, Omegam\n",
    "\"\"\"\n",
    "#Prior w0waCDM\n",
    "\n",
    "#Log-prior for mcmc sampling\n",
    "def lnflatprior_mcmc(p):\n",
    "    H0, Omegam, Omegal, w0, wa = p\n",
    "            \n",
    "    if (50. < H0 < 100. and 0.01 < Omegam < 0.99 and 0.01 < Omegal < 0.99 and -3. < w0 < 1. and -3 < wa < 2):\n",
    "        return 0.0\n",
    "    return -np.inf\n",
    "\n",
    "#Log-prior for nested sampling\n",
    "def lnflatprior_nested(u):\n",
    "    uH0, uOmegam, uOmegal, uw0, uwa = u\n",
    "    \n",
    "    H0 = 50 * uH0 + 50\n",
    "    Omegam = 0.98 * uOmegam + 0.01\n",
    "    Omegal = 0.98 * uOmegal + 0.01\n",
    "    w0 = 4 * uw0 - 3\n",
    "    wa = 5 * uwa - 3\n",
    "    \n",
    "    return H0, Omegam, Omegal, w0, wa\n",
    "\n",
    "#Log-probability\n",
    "def lnprob(p):\n",
    "    lp = lnflatprior_mcmc(p)\n",
    "    return lp + lnlike(p) if np.isfinite(lp) else -np.inf\n",
    "\n",
    "#def lnprob(p, zHz, Hz, inv_cov_matr):\n",
    "#    lp = lnflatprior(p)\n",
    "#    return lp + lnlike(p, zHz, Hz, inv_cov_matr) if np.isfinite(lp) else -np.inf "
   ]
  },
  {
   "cell_type": "code",
   "execution_count": 8,
   "metadata": {},
   "outputs": [
    {
     "name": "stderr",
     "output_type": "stream",
     "text": [
      "100%|██████████| 5000/5000 [00:05<00:00, 927.72it/s]\n",
      "Initialising ensemble of 10 walkers...\n",
      "Sampling progress : 100%|██████████| 5000/5000 [00:23<00:00, 213.83it/s]\n",
      "11999it [02:39, 75.25it/s, batch: 28 | bound: 56 | nc: 1 | ncall: 171291 | eff(%):  6.988 | loglstar: -12.083 < -7.248 < -7.460 | logz: -13.350 +/-  0.071 | stop:  0.996]         \n",
      "  1%|          | 54/5000 [00:00<00:09, 537.82it/s]"
     ]
    },
    {
     "name": "stdout",
     "output_type": "stream",
     "text": [
      "walkers: 10 time: 5.4037840366363525\n",
      "\n",
      "walkers: 10 time: 23.391484260559082\n",
      "\n",
      "live points: 100 time: 159.44938588142395\n",
      "\n"
     ]
    },
    {
     "name": "stderr",
     "output_type": "stream",
     "text": [
      "100%|██████████| 5000/5000 [00:06<00:00, 737.68it/s]\n",
      "Initialising ensemble of 14 walkers...\n",
      "Sampling progress : 100%|██████████| 5000/5000 [00:30<00:00, 162.04it/s]\n",
      "12368it [02:37, 78.32it/s, batch: 21 | bound: 33 | nc: 1 | ncall: 159253 | eff(%):  7.707 | loglstar: -11.663 < -7.230 < -7.603 | logz: -13.291 +/-  0.070 | stop:  0.963]        \n",
      "  1%|          | 61/5000 [00:00<00:08, 605.49it/s]"
     ]
    },
    {
     "name": "stdout",
     "output_type": "stream",
     "text": [
      "walkers: 14 time: 6.789440870285034\n",
      "\n",
      "walkers: 14 time: 30.86138391494751\n",
      "\n",
      "live points: 140 time: 157.92096185684204\n",
      "\n"
     ]
    },
    {
     "name": "stderr",
     "output_type": "stream",
     "text": [
      "100%|██████████| 5000/5000 [00:07<00:00, 686.53it/s]\n",
      "Initialising ensemble of 18 walkers...\n",
      "Sampling progress : 100%|██████████| 5000/5000 [00:40<00:00, 124.68it/s]\n",
      "13222it [02:31, 87.18it/s, batch: 17 | bound: 24 | nc: 1 | ncall: 165522 | eff(%):  7.988 | loglstar:   -inf < -7.254 < -8.144 | logz: -13.292 +/-  0.066 | stop:  0.959]         \n",
      "  1%|          | 57/5000 [00:00<00:08, 567.89it/s]"
     ]
    },
    {
     "name": "stdout",
     "output_type": "stream",
     "text": [
      "walkers: 18 time: 7.293926000595093\n",
      "\n",
      "walkers: 18 time: 40.108036041259766\n",
      "\n",
      "live points: 180 time: 151.66965198516846\n",
      "\n"
     ]
    },
    {
     "name": "stderr",
     "output_type": "stream",
     "text": [
      "100%|██████████| 5000/5000 [00:08<00:00, 594.71it/s]\n",
      "Initialising ensemble of 22 walkers...\n",
      "Sampling progress : 100%|██████████| 5000/5000 [00:46<00:00, 106.38it/s]\n",
      "12324it [02:19, 88.59it/s, batch: 14 | bound: 20 | nc: 1 | ncall: 145071 | eff(%):  8.407 | loglstar: -10.611 < -7.259 < -8.015 | logz: -13.324 +/-  0.065 | stop:  0.985]        \n",
      "  1%|          | 40/5000 [00:00<00:12, 394.13it/s]"
     ]
    },
    {
     "name": "stdout",
     "output_type": "stream",
     "text": [
      "walkers: 22 time: 8.426931858062744\n",
      "\n",
      "walkers: 22 time: 47.00684595108032\n",
      "\n",
      "live points: 220 time: 139.11933207511902\n",
      "\n"
     ]
    },
    {
     "name": "stderr",
     "output_type": "stream",
     "text": [
      "100%|██████████| 5000/5000 [00:10<00:00, 483.50it/s]\n",
      "Initialising ensemble of 26 walkers...\n",
      "Sampling progress : 100%|██████████| 5000/5000 [00:55<00:00, 89.73it/s] \n",
      "12944it [02:49, 76.37it/s, batch: 12 | bound: 22 | nc: 1 | ncall: 170167 | eff(%):  7.528 | loglstar: -9.922 < -7.294 < -8.120 | logz: -13.264 +/-  0.064 | stop:  0.982]         \n",
      "  1%|          | 44/5000 [00:00<00:11, 435.31it/s]"
     ]
    },
    {
     "name": "stdout",
     "output_type": "stream",
     "text": [
      "walkers: 26 time: 10.359806060791016\n",
      "\n",
      "walkers: 26 time: 55.727948904037476\n",
      "\n",
      "live points: 260 time: 169.49781322479248\n",
      "\n"
     ]
    },
    {
     "name": "stderr",
     "output_type": "stream",
     "text": [
      "100%|██████████| 5000/5000 [00:11<00:00, 436.22it/s]\n",
      "Initialising ensemble of 30 walkers...\n",
      "Sampling progress : 100%|██████████| 5000/5000 [00:57<00:00, 86.94it/s]\n",
      "14371it [02:18, 103.48it/s, batch: 11 | bound: 32 | nc: 1 | ncall: 159500 | eff(%):  9.010 | loglstar:   -inf < -7.260 < -7.879 | logz: -13.233 +/-  0.062 | stop:  0.924]         \n",
      "  1%|          | 39/5000 [00:00<00:12, 384.29it/s]"
     ]
    },
    {
     "name": "stdout",
     "output_type": "stream",
     "text": [
      "walkers: 30 time: 11.494697332382202\n",
      "\n",
      "walkers: 30 time: 57.52117395401001\n",
      "\n",
      "live points: 300 time: 138.88559412956238\n",
      "\n"
     ]
    },
    {
     "name": "stderr",
     "output_type": "stream",
     "text": [
      "100%|██████████| 5000/5000 [00:12<00:00, 403.96it/s]\n",
      "Initialising ensemble of 34 walkers...\n",
      "Sampling progress : 100%|██████████| 5000/5000 [01:18<00:00, 63.92it/s]\n",
      "14728it [02:40, 91.57it/s, batch: 10 | bound: 29 | nc: 1 | ncall: 165198 | eff(%):  8.915 | loglstar:   -inf < -7.232 < -7.969 | logz: -13.333 +/-  0.062 | stop:  0.924]            \n",
      "  1%|          | 39/5000 [00:00<00:12, 384.66it/s]"
     ]
    },
    {
     "name": "stdout",
     "output_type": "stream",
     "text": [
      "walkers: 34 time: 12.396075010299683\n",
      "\n",
      "walkers: 34 time: 78.22941899299622\n",
      "\n",
      "live points: 340 time: 160.84170794487\n",
      "\n"
     ]
    },
    {
     "name": "stderr",
     "output_type": "stream",
     "text": [
      "100%|██████████| 5000/5000 [00:12<00:00, 387.58it/s]\n",
      "Initialising ensemble of 38 walkers...\n",
      "Sampling progress : 100%|██████████| 5000/5000 [00:59<00:00, 83.47it/s]\n",
      "13778it [02:18, 99.67it/s, batch: 9 | bound: 29 | nc: 1 | ncall: 144229 | eff(%):  8.786 | loglstar: -14.980 < -7.243 < -7.813 | logz: -13.404 +/-  0.062 | stop:  0.920]            \n",
      "  1%|          | 35/5000 [00:00<00:14, 342.87it/s]"
     ]
    },
    {
     "name": "stdout",
     "output_type": "stream",
     "text": [
      "walkers: 38 time: 12.918623924255371\n",
      "\n",
      "walkers: 38 time: 59.907459020614624\n",
      "\n",
      "live points: 380 time: 138.23999094963074\n",
      "\n"
     ]
    },
    {
     "name": "stderr",
     "output_type": "stream",
     "text": [
      "100%|██████████| 5000/5000 [00:13<00:00, 373.56it/s]\n",
      "Initialising ensemble of 42 walkers...\n",
      "Sampling progress : 100%|██████████| 5000/5000 [01:13<00:00, 68.44it/s]\n",
      "12956it [02:22, 90.83it/s, batch: 8 | bound: 21 | nc: 1 | ncall: 144124 | eff(%):  8.862 | loglstar: -13.357 < -7.249 < -8.199 | logz: -13.333 +/-  0.062 | stop:  0.988]          \n",
      "  1%|▏         | 67/5000 [00:00<00:15, 326.91it/s]"
     ]
    },
    {
     "name": "stdout",
     "output_type": "stream",
     "text": [
      "walkers: 42 time: 13.412934303283691\n",
      "\n",
      "walkers: 42 time: 73.06323599815369\n",
      "\n",
      "live points: 420 time: 142.64375972747803\n",
      "\n"
     ]
    },
    {
     "name": "stderr",
     "output_type": "stream",
     "text": [
      "100%|██████████| 5000/5000 [00:14<00:00, 348.64it/s]\n",
      "Initialising ensemble of 46 walkers...\n",
      "Sampling progress : 100%|██████████| 5000/5000 [01:17<00:00, 64.80it/s]\n",
      "14326it [02:10, 109.97it/s, batch: 8 | bound: 20 | nc: 1 | ncall: 143477 | eff(%):  9.847 | loglstar: -13.599 < -7.260 < -8.058 | logz: -13.282 +/-  0.059 | stop:  0.895]        \n",
      "  1%|          | 28/5000 [00:00<00:18, 274.60it/s]"
     ]
    },
    {
     "name": "stdout",
     "output_type": "stream",
     "text": [
      "walkers: 46 time: 14.364033937454224\n",
      "\n",
      "walkers: 46 time: 77.17553687095642\n",
      "\n",
      "live points: 460 time: 130.27306699752808\n",
      "\n"
     ]
    },
    {
     "name": "stderr",
     "output_type": "stream",
     "text": [
      "100%|██████████| 5000/5000 [00:15<00:00, 324.75it/s]\n",
      "Initialising ensemble of 50 walkers...\n",
      "Sampling progress : 100%|██████████| 5000/5000 [01:29<00:00, 55.66it/s]\n",
      "13436it [02:14, 99.53it/s, batch: 7 | bound: 25 | nc: 1 | ncall: 134481 | eff(%):  9.713 | loglstar: -12.700 < -7.246 < -7.775 | logz: -13.304 +/-  0.064 | stop:  0.974]          \n",
      "  1%|          | 26/5000 [00:00<00:19, 257.31it/s]"
     ]
    },
    {
     "name": "stdout",
     "output_type": "stream",
     "text": [
      "walkers: 50 time: 15.42418098449707\n",
      "\n",
      "walkers: 50 time: 89.83816480636597\n",
      "\n",
      "live points: 500 time: 134.9926106929779\n",
      "\n"
     ]
    },
    {
     "name": "stderr",
     "output_type": "stream",
     "text": [
      "100%|██████████| 5000/5000 [00:16<00:00, 300.26it/s]\n",
      "Initialising ensemble of 54 walkers...\n",
      "Sampling progress : 100%|██████████| 5000/5000 [01:38<00:00, 50.53it/s]\n",
      "13356it [01:56, 114.26it/s, batch: 6 | bound: 22 | nc: 1 | ncall: 132404 | eff(%):  9.920 | loglstar: -12.202 < -7.241 < -7.867 | logz: -13.318 +/-  0.064 | stop:  0.996]         \n",
      "  0%|          | 21/5000 [00:00<00:23, 209.12it/s]"
     ]
    },
    {
     "name": "stdout",
     "output_type": "stream",
     "text": [
      "walkers: 54 time: 16.68238091468811\n",
      "\n",
      "walkers: 54 time: 98.95653104782104\n",
      "\n",
      "live points: 540 time: 116.89005208015442\n",
      "\n"
     ]
    },
    {
     "name": "stderr",
     "output_type": "stream",
     "text": [
      "100%|██████████| 5000/5000 [00:17<00:00, 282.28it/s]\n",
      "Initialising ensemble of 58 walkers...\n",
      "Sampling progress : 100%|██████████| 5000/5000 [01:35<00:00, 52.47it/s]\n",
      "15879it [02:17, 115.57it/s, batch: 7 | bound: 26 | nc: 1 | ncall: 155713 | eff(%):  9.967 | loglstar: -12.903 < -7.217 < -7.740 | logz: -13.323 +/-  0.059 | stop:  0.832]         \n",
      "  1%|          | 26/5000 [00:00<00:19, 256.62it/s]"
     ]
    },
    {
     "name": "stdout",
     "output_type": "stream",
     "text": [
      "walkers: 58 time: 17.745553016662598\n",
      "\n",
      "walkers: 58 time: 95.30816888809204\n",
      "\n",
      "live points: 580 time: 137.3949909210205\n",
      "\n"
     ]
    },
    {
     "name": "stderr",
     "output_type": "stream",
     "text": [
      "100%|██████████| 5000/5000 [00:17<00:00, 280.23it/s]\n",
      "Initialising ensemble of 62 walkers...\n",
      "Sampling progress : 100%|██████████| 5000/5000 [02:02<00:00, 40.69it/s]\n",
      "16788it [02:37, 106.64it/s, batch: 7 | bound: 28 | nc: 1 | ncall: 164429 | eff(%):  9.967 | loglstar: -12.819 < -7.231 < -7.748 | logz: -13.405 +/-  0.058 | stop:  0.785]           \n",
      "  0%|          | 22/5000 [00:00<00:23, 212.84it/s]"
     ]
    },
    {
     "name": "stdout",
     "output_type": "stream",
     "text": [
      "walkers: 62 time: 17.875313997268677\n",
      "\n",
      "walkers: 62 time: 122.90200090408325\n",
      "\n",
      "live points: 620 time: 157.42795610427856\n",
      "\n"
     ]
    },
    {
     "name": "stderr",
     "output_type": "stream",
     "text": [
      "100%|██████████| 5000/5000 [00:18<00:00, 269.04it/s]\n",
      "Initialising ensemble of 66 walkers...\n",
      "Sampling progress : 100%|██████████| 5000/5000 [01:40<00:00, 49.54it/s]\n",
      "14541it [01:53, 128.09it/s, batch: 6 | bound: 1 | nc: 1 | ncall: 130332 | eff(%): 10.655 | loglstar: -12.213 < -7.333 < -11.704 | logz: -13.384 +/-  0.058 | stop:  0.981]           \n",
      "  0%|          | 19/5000 [00:00<00:27, 183.19it/s]"
     ]
    },
    {
     "name": "stdout",
     "output_type": "stream",
     "text": [
      "walkers: 66 time: 18.617159843444824\n",
      "\n",
      "walkers: 66 time: 100.9426200389862\n",
      "\n",
      "live points: 660 time: 113.52295303344727\n",
      "\n"
     ]
    },
    {
     "name": "stderr",
     "output_type": "stream",
     "text": [
      "100%|██████████| 5000/5000 [00:21<00:00, 229.14it/s]\n",
      "Initialising ensemble of 70 walkers...\n",
      "Sampling progress : 100%|██████████| 5000/5000 [01:57<00:00, 42.47it/s]\n",
      "15020it [01:50, 135.81it/s, batch: 5 | bound: 19 | nc: 1 | ncall: 129926 | eff(%): 11.276 | loglstar: -11.704 < -7.222 < -8.003 | logz: -13.311 +/-  0.061 | stop:  0.926]          \n",
      "  0%|          | 17/5000 [00:00<00:30, 165.22it/s]"
     ]
    },
    {
     "name": "stdout",
     "output_type": "stream",
     "text": [
      "walkers: 70 time: 21.879083156585693\n",
      "\n",
      "walkers: 70 time: 117.73911809921265\n",
      "\n",
      "live points: 700 time: 110.60100197792053\n",
      "\n"
     ]
    },
    {
     "name": "stderr",
     "output_type": "stream",
     "text": [
      "100%|██████████| 5000/5000 [00:20<00:00, 238.85it/s]\n",
      "Initialising ensemble of 74 walkers...\n",
      "Sampling progress : 100%|██████████| 5000/5000 [02:04<00:00, 40.29it/s]\n",
      "17255it [02:22, 120.72it/s, batch: 6 | bound: 27 | nc: 1 | ncall: 162502 | eff(%): 10.356 | loglstar: -12.102 < -7.223 < -7.742 | logz: -13.307 +/-  0.058 | stop:  0.805]           \n",
      "  0%|          | 20/5000 [00:00<00:25, 198.16it/s]"
     ]
    },
    {
     "name": "stdout",
     "output_type": "stream",
     "text": [
      "walkers: 74 time: 20.98292303085327\n",
      "\n",
      "walkers: 74 time: 124.12133383750916\n",
      "\n",
      "live points: 740 time: 142.93162393569946\n",
      "\n"
     ]
    },
    {
     "name": "stderr",
     "output_type": "stream",
     "text": [
      "100%|██████████| 5000/5000 [00:21<00:00, 236.23it/s]\n",
      "Initialising ensemble of 78 walkers...\n",
      "Sampling progress : 100%|██████████| 5000/5000 [01:57<00:00, 42.67it/s]\n",
      "16120it [01:50, 146.14it/s, batch: 5 | bound: 13 | nc: 1 | ncall: 131816 | eff(%): 12.035 | loglstar: -11.703 < -7.244 < -8.535 | logz: -13.336 +/-  0.058 | stop:  0.889]           \n",
      "  0%|          | 20/5000 [00:00<00:25, 198.72it/s]"
     ]
    },
    {
     "name": "stdout",
     "output_type": "stream",
     "text": [
      "walkers: 78 time: 21.20465111732483\n",
      "\n",
      "walkers: 78 time: 117.19126486778259\n",
      "\n",
      "live points: 780 time: 110.31095695495605\n",
      "\n"
     ]
    },
    {
     "name": "stderr",
     "output_type": "stream",
     "text": [
      "100%|██████████| 5000/5000 [00:22<00:00, 226.75it/s]\n",
      "Initialising ensemble of 82 walkers...\n",
      "Sampling progress : 100%|██████████| 5000/5000 [02:37<00:00, 31.72it/s]\n",
      "17645it [02:25, 121.64it/s, batch: 5 | bound: 16 | nc: 1 | ncall: 156072 | eff(%): 10.843 | loglstar: -11.772 < -7.235 < -8.030 | logz: -13.340 +/-  0.056 | stop:  0.790]          \n",
      "  0%|          | 16/5000 [00:00<00:31, 157.65it/s]"
     ]
    },
    {
     "name": "stdout",
     "output_type": "stream",
     "text": [
      "walkers: 82 time: 22.117371797561646\n",
      "\n",
      "walkers: 82 time: 157.6507511138916\n",
      "\n",
      "live points: 820 time: 145.06422090530396\n",
      "\n"
     ]
    },
    {
     "name": "stderr",
     "output_type": "stream",
     "text": [
      "100%|██████████| 5000/5000 [00:23<00:00, 210.63it/s]\n",
      "Initialising ensemble of 86 walkers...\n",
      "Sampling progress : 100%|██████████| 5000/5000 [02:33<00:00, 32.65it/s]\n",
      "18767it [02:23, 130.48it/s, batch: 5 | bound: 18 | nc: 1 | ncall: 159424 | eff(%): 11.470 | loglstar: -11.856 < -7.238 < -7.893 | logz: -13.322 +/-  0.055 | stop:  0.741]         \n",
      "  0%|          | 13/5000 [00:00<00:39, 125.16it/s]"
     ]
    },
    {
     "name": "stdout",
     "output_type": "stream",
     "text": [
      "walkers: 86 time: 23.777642965316772\n",
      "\n",
      "walkers: 86 time: 153.14972019195557\n",
      "\n",
      "live points: 860 time: 143.83521819114685\n",
      "\n"
     ]
    },
    {
     "name": "stderr",
     "output_type": "stream",
     "text": [
      "100%|██████████| 5000/5000 [00:25<00:00, 196.39it/s]\n",
      "Initialising ensemble of 90 walkers...\n",
      "Sampling progress : 100%|██████████| 5000/5000 [02:29<00:00, 33.51it/s]\n",
      "16064it [02:01, 132.11it/s, batch: 4 | bound: 1 | nc: 1 | ncall: 144220 | eff(%): 10.846 | loglstar: -11.292 < -7.305 < -10.857 | logz: -13.347 +/-  0.055 | stop:  0.965]           \n",
      "  0%|          | 15/5000 [00:00<00:33, 146.87it/s]"
     ]
    },
    {
     "name": "stdout",
     "output_type": "stream",
     "text": [
      "walkers: 90 time: 25.523748636245728\n",
      "\n",
      "walkers: 90 time: 149.21869373321533\n",
      "\n",
      "live points: 900 time: 121.59833192825317\n",
      "\n"
     ]
    },
    {
     "name": "stderr",
     "output_type": "stream",
     "text": [
      "100%|██████████| 5000/5000 [00:27<00:00, 184.66it/s]\n",
      "Initialising ensemble of 94 walkers...\n",
      "Sampling progress : 100%|██████████| 5000/5000 [02:43<00:00, 30.56it/s]\n",
      "16807it [02:26, 114.82it/s, batch: 4 | bound: 2 | nc: 1 | ncall: 158300 | eff(%): 10.170 | loglstar: -11.366 < -7.269 < -10.935 | logz: -13.341 +/-  0.054 | stop:  0.924]           \n",
      "  1%|          | 34/5000 [00:00<00:32, 154.56it/s]"
     ]
    },
    {
     "name": "stdout",
     "output_type": "stream",
     "text": [
      "walkers: 94 time: 27.127333164215088\n",
      "\n",
      "walkers: 94 time: 163.65057587623596\n",
      "\n",
      "live points: 940 time: 146.3814570903778\n",
      "\n"
     ]
    },
    {
     "name": "stderr",
     "output_type": "stream",
     "text": [
      "100%|██████████| 5000/5000 [00:25<00:00, 192.35it/s]\n",
      "Initialising ensemble of 98 walkers...\n",
      "Sampling progress : 100%|██████████| 5000/5000 [02:40<00:00, 31.21it/s]\n",
      "16275it [01:37, 167.25it/s, batch: 3 | bound: 1 | nc: 1 | ncall: 122728 | eff(%): 12.957 | loglstar: -10.860 < -7.250 < -10.410 | logz: -13.326 +/-  0.055 | stop:  0.987]         \n",
      "  1%|          | 32/5000 [00:00<00:34, 144.94it/s]"
     ]
    },
    {
     "name": "stdout",
     "output_type": "stream",
     "text": [
      "walkers: 98 time: 26.041861057281494\n",
      "\n",
      "walkers: 98 time: 160.2076449394226\n",
      "\n",
      "live points: 980 time: 97.30985188484192\n",
      "\n"
     ]
    },
    {
     "name": "stderr",
     "output_type": "stream",
     "text": [
      "100%|██████████| 5000/5000 [00:30<00:00, 164.16it/s]\n",
      "Initialising ensemble of 102 walkers...\n",
      "Sampling progress : 100%|██████████| 5000/5000 [03:02<00:00, 27.40it/s]\n",
      "17053it [02:06, 135.06it/s, batch: 3 | bound: 2 | nc: 1 | ncall: 148606 | eff(%): 10.916 | loglstar: -10.792 < -7.244 < -10.318 | logz: -13.312 +/-  0.054 | stop:  0.935]           \n",
      "  0%|          | 12/5000 [00:00<00:41, 119.64it/s]"
     ]
    },
    {
     "name": "stdout",
     "output_type": "stream",
     "text": [
      "walkers: 102 time: 30.510016918182373\n",
      "\n",
      "walkers: 102 time: 182.47823524475098\n",
      "\n",
      "live points: 1020 time: 126.26150894165039\n",
      "\n"
     ]
    },
    {
     "name": "stderr",
     "output_type": "stream",
     "text": [
      "100%|██████████| 5000/5000 [00:30<00:00, 165.87it/s]\n",
      "Initialising ensemble of 106 walkers...\n",
      "Sampling progress : 100%|██████████| 5000/5000 [03:05<00:00, 26.92it/s]\n",
      "17629it [02:09, 135.93it/s, batch: 3 | bound: 1 | nc: 1 | ncall: 150982 | eff(%): 11.346 | loglstar: -10.689 < -7.290 < -10.235 | logz: -13.335 +/-  0.053 | stop:  0.907]           \n",
      "  0%|          | 0/5000 [00:00<?, ?it/s]"
     ]
    },
    {
     "name": "stdout",
     "output_type": "stream",
     "text": [
      "walkers: 106 time: 30.207954168319702\n",
      "\n",
      "walkers: 106 time: 185.73475408554077\n",
      "\n",
      "live points: 1060 time: 129.6943359375\n",
      "\n"
     ]
    },
    {
     "name": "stderr",
     "output_type": "stream",
     "text": [
      "100%|██████████| 5000/5000 [00:31<00:00, 157.78it/s]\n",
      "Initialising ensemble of 110 walkers...\n",
      "Sampling progress : 100%|██████████| 5000/5000 [03:04<00:00, 27.14it/s]\n",
      "17026it [01:51, 152.38it/s, batch: 2 | bound: 2 | nc: 1 | ncall: 128981 | eff(%): 12.332 | loglstar: -10.379 < -7.249 < -9.808 | logz: -13.370 +/-  0.056 | stop:  0.994]           "
     ]
    },
    {
     "name": "stdout",
     "output_type": "stream",
     "text": [
      "walkers: 110 time: 31.816671133041382\n",
      "\n",
      "walkers: 110 time: 184.2296540737152\n",
      "\n",
      "live points: 1100 time: 111.73547196388245\n",
      "\n"
     ]
    },
    {
     "name": "stderr",
     "output_type": "stream",
     "text": [
      "\n"
     ]
    }
   ],
   "source": [
    "truths = planck\n",
    "\n",
    "filename = \"running_time.dat\"\n",
    "    \n",
    "thin = 1\n",
    "burnin = 300\n",
    "\n",
    "nwalkers = np.array([10,14,18,22,26,30,34,38,42,46,50,54,58,62,66,70,74,78,82,86,90,94,98,102,106,110])\n",
    "nlive = nwalkers*10\n",
    "rows = nwalkers.size\n",
    "sampling_time=np.zeros((3,rows))\n",
    "\n",
    "res = np.zeros(rows, dtype=[('nwalkers', int), ('sampling_time[0]', float), ('sampling_time[1]', float), \n",
    "                            ('nlive', int), ('sampling_time[2]', float)])\n",
    "res['nwalkers']=nwalkers\n",
    "res['nlive']=nlive\n",
    "\n",
    "\n",
    "\n",
    "for i in range(rows):\n",
    "\n",
    "    np.random.seed(123)\n",
    "    p0 = truths + 0.1 * np.random.randn(nwalkers[i], ndim) #Initial position of walkers\n",
    "\n",
    "    #emcee\n",
    "    esampler = emcee.EnsembleSampler(nwalkers[i], ndim, lnprob)\n",
    "    start_e = time.time()\n",
    "    esampler.run_mcmc(p0, 5000, progress=True)\n",
    "    end_e = time.time()\n",
    "\n",
    "    sampling_time_e = end_e - start_e\n",
    "    sampling_time[0,i]=sampling_time_e\n",
    "\n",
    "    #zeus\n",
    "    zsampler = zeus.EnsembleSampler(nwalkers[i], ndim, lnprob)\n",
    "    start_z = time.time()\n",
    "    zsampler.run_mcmc(p0, 5000, progress=True)\n",
    "    end_z = time.time()\n",
    "\n",
    "    sampling_time_z = end_z - start_z\n",
    "    sampling_time[1,i]=sampling_time_z\n",
    "\n",
    "    #dynesty\n",
    "    rstate = np.random.default_rng(56101)\n",
    "\n",
    "    dsampler = dynesty.DynamicNestedSampler(lnlike, lnflatprior_nested, ndim=ndim, \n",
    "                                                    bound='multi', sample='unif', rstate=rstate, nlive=nlive[i])\n",
    "    start_d = time.time()\n",
    "    dsampler.run_nested()\n",
    "    end_d = time.time()\n",
    "\n",
    "    sampling_time_d = end_d - start_d\n",
    "    sampling_time[2,i]=sampling_time_d\n",
    "    \n",
    "    \n",
    "    print(\"walkers: {} time: {}\\n\".format(nwalkers[i],sampling_time[0,i]))\n",
    "    print(\"walkers: {} time: {}\\n\".format(nwalkers[i],sampling_time[1,i]))\n",
    "    print(\"live points: {} time: {}\\n\".format(nlive[i],sampling_time[2,i]))\n",
    "\n",
    "res['sampling_time[0]']=sampling_time[0,:]\n",
    "res['sampling_time[1]']=sampling_time[1,:]\n",
    "res['sampling_time[2]']=sampling_time[2,:]\n",
    "\n",
    "fileout = open(filename,\"w\")\n",
    "fileout.write(\"# walkers   emcee   zeus   livepts   dynesty\\n\")\n",
    "np.savetxt(fileout,res,delimiter=\",\",fmt='%d   %f   %f   %d   %f', newline='\\n')\n",
    "fileout.close()"
   ]
  },
  {
   "cell_type": "code",
   "execution_count": 20,
   "metadata": {},
   "outputs": [
    {
     "name": "stderr",
     "output_type": "stream",
     "text": [
      "100%|██████████| 100/100 [00:00<00:00, 402.04it/s]\n",
      "Initialising ensemble of 32 walkers...\n",
      "Sampling progress : 100%|██████████| 100/100 [00:01<00:00, 52.31it/s]\n",
      " 16%|█▋        | 33/200 [00:00<00:00, 327.24it/s]"
     ]
    },
    {
     "name": "stdout",
     "output_type": "stream",
     "text": [
      "iterations: 100 time: 0.2843050956726074\n",
      "\n",
      "iterations: 100 time: 1.9250280857086182\n",
      "\n"
     ]
    },
    {
     "name": "stderr",
     "output_type": "stream",
     "text": [
      "100%|██████████| 200/200 [00:00<00:00, 390.35it/s]\n",
      "Initialising ensemble of 32 walkers...\n",
      "Sampling progress : 100%|██████████| 200/200 [00:02<00:00, 75.08it/s]\n",
      "  9%|▉         | 35/400 [00:00<00:01, 346.42it/s]"
     ]
    },
    {
     "name": "stdout",
     "output_type": "stream",
     "text": [
      "iterations: 200 time: 0.5211977958679199\n",
      "\n",
      "iterations: 200 time: 2.673590898513794\n",
      "\n"
     ]
    },
    {
     "name": "stderr",
     "output_type": "stream",
     "text": [
      "100%|██████████| 400/400 [00:01<00:00, 364.52it/s]\n",
      "Initialising ensemble of 32 walkers...\n",
      "Sampling progress : 100%|██████████| 400/400 [00:05<00:00, 69.57it/s]\n",
      "  5%|▌         | 42/800 [00:00<00:01, 414.38it/s]"
     ]
    },
    {
     "name": "stdout",
     "output_type": "stream",
     "text": [
      "iterations: 400 time: 1.108102798461914\n",
      "\n",
      "iterations: 400 time: 5.756489992141724\n",
      "\n"
     ]
    },
    {
     "name": "stderr",
     "output_type": "stream",
     "text": [
      "100%|██████████| 800/800 [00:01<00:00, 407.31it/s]\n",
      "Initialising ensemble of 32 walkers...\n",
      "Sampling progress : 100%|██████████| 800/800 [00:10<00:00, 73.05it/s]\n",
      "  2%|▏         | 39/1600 [00:00<00:04, 387.79it/s]"
     ]
    },
    {
     "name": "stdout",
     "output_type": "stream",
     "text": [
      "iterations: 800 time: 1.9727838039398193\n",
      "\n",
      "iterations: 800 time: 10.957710981369019\n",
      "\n"
     ]
    },
    {
     "name": "stderr",
     "output_type": "stream",
     "text": [
      "100%|██████████| 1600/1600 [00:03<00:00, 440.75it/s]\n",
      "Initialising ensemble of 32 walkers...\n",
      "Sampling progress : 100%|██████████| 1600/1600 [00:22<00:00, 70.97it/s]\n",
      "  2%|▏         | 42/2000 [00:00<00:04, 412.72it/s]"
     ]
    },
    {
     "name": "stdout",
     "output_type": "stream",
     "text": [
      "iterations: 1600 time: 3.6387877464294434\n",
      "\n",
      "iterations: 1600 time: 22.552676916122437\n",
      "\n"
     ]
    },
    {
     "name": "stderr",
     "output_type": "stream",
     "text": [
      "100%|██████████| 2000/2000 [00:04<00:00, 434.53it/s]\n",
      "Initialising ensemble of 32 walkers...\n",
      "Sampling progress : 100%|██████████| 2000/2000 [00:24<00:00, 81.75it/s]\n",
      "  1%|▏         | 40/2800 [00:00<00:06, 396.32it/s]"
     ]
    },
    {
     "name": "stdout",
     "output_type": "stream",
     "text": [
      "iterations: 2000 time: 4.6132683753967285\n",
      "\n",
      "iterations: 2000 time: 24.470628023147583\n",
      "\n"
     ]
    },
    {
     "name": "stderr",
     "output_type": "stream",
     "text": [
      "100%|██████████| 2800/2800 [00:06<00:00, 443.10it/s]\n",
      "Initialising ensemble of 32 walkers...\n",
      "Sampling progress : 100%|██████████| 2800/2800 [00:34<00:00, 81.90it/s]\n",
      "  1%|          | 31/3200 [00:00<00:10, 300.56it/s]"
     ]
    },
    {
     "name": "stdout",
     "output_type": "stream",
     "text": [
      "iterations: 2800 time: 6.334974050521851\n",
      "\n",
      "iterations: 2800 time: 34.1952018737793\n",
      "\n"
     ]
    },
    {
     "name": "stderr",
     "output_type": "stream",
     "text": [
      "100%|██████████| 3200/3200 [00:07<00:00, 414.40it/s]\n",
      "Initialising ensemble of 32 walkers...\n",
      "Sampling progress : 100%|██████████| 3200/3200 [00:53<00:00, 59.46it/s]\n",
      "  1%|          | 34/3600 [00:00<00:10, 332.96it/s]"
     ]
    },
    {
     "name": "stdout",
     "output_type": "stream",
     "text": [
      "iterations: 3200 time: 7.736125946044922\n",
      "\n",
      "iterations: 3200 time: 53.827229738235474\n",
      "\n"
     ]
    },
    {
     "name": "stderr",
     "output_type": "stream",
     "text": [
      "100%|██████████| 3600/3600 [00:10<00:00, 353.07it/s]\n",
      "Initialising ensemble of 32 walkers...\n",
      "Sampling progress : 100%|██████████| 3600/3600 [00:46<00:00, 76.81it/s]\n",
      "  1%|          | 42/4500 [00:00<00:10, 415.50it/s]"
     ]
    },
    {
     "name": "stdout",
     "output_type": "stream",
     "text": [
      "iterations: 3600 time: 10.212321043014526\n",
      "\n",
      "iterations: 3600 time: 46.878746032714844\n",
      "\n"
     ]
    },
    {
     "name": "stderr",
     "output_type": "stream",
     "text": [
      "100%|██████████| 4500/4500 [00:10<00:00, 423.90it/s]\n",
      "Initialising ensemble of 32 walkers...\n",
      "Sampling progress : 100%|██████████| 4500/4500 [01:15<00:00, 59.41it/s]\n",
      "  1%|          | 39/5000 [00:00<00:12, 388.97it/s]"
     ]
    },
    {
     "name": "stdout",
     "output_type": "stream",
     "text": [
      "iterations: 4500 time: 10.633907079696655\n",
      "\n",
      "iterations: 4500 time: 75.75544810295105\n",
      "\n"
     ]
    },
    {
     "name": "stderr",
     "output_type": "stream",
     "text": [
      "100%|██████████| 5000/5000 [00:11<00:00, 427.01it/s]\n",
      "Initialising ensemble of 32 walkers...\n",
      "Sampling progress : 100%|██████████| 5000/5000 [00:55<00:00, 90.49it/s]\n",
      "  1%|▏         | 85/5750 [00:00<00:13, 414.18it/s]"
     ]
    },
    {
     "name": "stdout",
     "output_type": "stream",
     "text": [
      "iterations: 5000 time: 11.75033187866211\n",
      "\n",
      "iterations: 5000 time: 55.26222515106201\n",
      "\n"
     ]
    },
    {
     "name": "stderr",
     "output_type": "stream",
     "text": [
      "100%|██████████| 5750/5750 [00:12<00:00, 449.07it/s]\n",
      "Initialising ensemble of 32 walkers...\n",
      "Sampling progress : 100%|██████████| 5750/5750 [01:01<00:00, 93.90it/s] \n",
      "  1%|▏         | 87/6000 [00:00<00:14, 421.17it/s]"
     ]
    },
    {
     "name": "stdout",
     "output_type": "stream",
     "text": [
      "iterations: 5750 time: 12.821514129638672\n",
      "\n",
      "iterations: 5750 time: 61.24278903007507\n",
      "\n"
     ]
    },
    {
     "name": "stderr",
     "output_type": "stream",
     "text": [
      "100%|██████████| 6000/6000 [00:14<00:00, 427.09it/s]\n",
      "Initialising ensemble of 32 walkers...\n",
      "Sampling progress : 100%|██████████| 6000/6000 [01:10<00:00, 85.40it/s]\n",
      "  1%|▏         | 85/6700 [00:00<00:15, 415.53it/s]"
     ]
    },
    {
     "name": "stdout",
     "output_type": "stream",
     "text": [
      "iterations: 6000 time: 14.06720781326294\n",
      "\n",
      "iterations: 6000 time: 70.2650978565216\n",
      "\n"
     ]
    },
    {
     "name": "stderr",
     "output_type": "stream",
     "text": [
      "100%|██████████| 6700/6700 [00:14<00:00, 459.16it/s]\n",
      "Initialising ensemble of 32 walkers...\n",
      "Sampling progress : 100%|██████████| 6700/6700 [01:37<00:00, 68.68it/s]"
     ]
    },
    {
     "name": "stdout",
     "output_type": "stream",
     "text": [
      "iterations: 6700 time: 14.612560272216797\n",
      "\n",
      "iterations: 6700 time: 97.55824160575867\n",
      "\n"
     ]
    },
    {
     "name": "stderr",
     "output_type": "stream",
     "text": [
      "\n"
     ]
    }
   ],
   "source": [
    "file = \"time_iter.dat\"\n",
    "\n",
    "iter = np.array([100,200,400,800,1600,2000,2800,3200,3600,4500,5000,5750,6000,6700])\n",
    "rows = iter.size\n",
    "sampling_time=np.zeros((2,rows))\n",
    "\n",
    "res = np.zeros(rows, dtype=[('iteration', int), ('sampling_time[0]', float), ('sampling_time[1]', float)])\n",
    "res['iteration']=iter\n",
    "\n",
    "for i in range(rows):\n",
    "\n",
    "    np.random.seed(123)\n",
    "    p0 = truths + 0.1 * np.random.randn(32, ndim) #Initial position of walkers\n",
    "\n",
    "    #emcee\n",
    "    esampler = emcee.EnsembleSampler(32, ndim, lnprob)\n",
    "    start_e = time.time()\n",
    "    esampler.run_mcmc(p0, iter[i], progress=True)\n",
    "    end_e = time.time()\n",
    "\n",
    "    sampling_time_e = end_e - start_e\n",
    "    sampling_time[0,i]=sampling_time_e\n",
    "\n",
    "    #zeus\n",
    "    zsampler = zeus.EnsembleSampler(32, ndim, lnprob)\n",
    "    start_z = time.time()\n",
    "    zsampler.run_mcmc(p0, iter[i], progress=True)\n",
    "    end_z = time.time()\n",
    "\n",
    "    sampling_time_z = end_z - start_z\n",
    "    sampling_time[1,i]=sampling_time_z\n",
    "\n",
    "    \n",
    "    print(\"iterations: {} time: {}\\n\".format(iter[i],sampling_time[0,i]))\n",
    "    print(\"iterations: {} time: {}\\n\".format(iter[i],sampling_time[1,i]))\n",
    "    \n",
    "res['sampling_time[0]']=sampling_time[0,:]\n",
    "res['sampling_time[1]']=sampling_time[1,:]\n",
    "\n",
    "fileout = open(file,\"w\")\n",
    "fileout.write(\"# iterations   emcee   zeus\\n\")\n",
    "np.savetxt(fileout,res,delimiter=\",\",fmt='%d   %f   %f', newline='\\n')\n",
    "fileout.close()"
   ]
  },
  {
   "cell_type": "code",
   "execution_count": 22,
   "metadata": {},
   "outputs": [
    {
     "data": {
      "text/plain": [
       "<matplotlib.legend.Legend at 0x7f8f4fce3b50>"
      ]
     },
     "execution_count": 22,
     "metadata": {},
     "output_type": "execute_result"
    },
    {
     "data": {
      "image/png": "[encoded data removed]",
      "text/plain": [
       "<Figure size 432x288 with 1 Axes>"
      ]
     },
     "metadata": {
      "needs_background": "light"
     },
     "output_type": "display_data"
    },
    {
     "data": {
      "image/png": "[encoded data removed]",
      "text/plain": [
       "<Figure size 432x288 with 1 Axes>"
      ]
     },
     "metadata": {
      "needs_background": "light"
     },
     "output_type": "display_data"
    },
    {
     "data": {
      "image/png": "[encoded data removed]",
      "text/plain": [
       "<Figure size 432x288 with 1 Axes>"
      ]
     },
     "metadata": {
      "needs_background": "light"
     },
     "output_type": "display_data"
    },
    {
     "data": {
      "image/png": "[encoded data removed]",
      "text/plain": [
       "<Figure size 432x288 with 1 Axes>"
      ]
     },
     "metadata": {
      "needs_background": "light"
     },
     "output_type": "display_data"
    },
    {
     "data": {
      "image/png": "[encoded data removed]",
      "text/plain": [
       "<Figure size 432x288 with 1 Axes>"
      ]
     },
     "metadata": {
      "needs_background": "light"
     },
     "output_type": "display_data"
    },
    {
     "data": {
      "image/png": "[encoded data removed]",
      "text/plain": [
       "<Figure size 432x288 with 1 Axes>"
      ]
     },
     "metadata": {
      "needs_background": "light"
     },
     "output_type": "display_data"
    },
    {
     "data": {
      "image/png": "[encoded data removed]",
      "text/plain": [
       "<Figure size 432x288 with 1 Axes>"
      ]
     },
     "metadata": {
      "needs_background": "light"
     },
     "output_type": "display_data"
    }
   ],
   "source": [
    "data_file = filename\n",
    "data = file\n",
    "nwalk,te,tz,lp,td = np.genfromtxt(data_file, comments='#', usecols=(0,1,2,3,4), unpack=True, delimiter='')\n",
    "iters,tem,tze = np.genfromtxt(data, comments='#', usecols=(0,1,2), unpack=True, delimiter='')\n",
    "\n",
    "labels=[\"emcee\",\"zeus\",\"dynesty\"]\n",
    "\n",
    "plt.figure(1)\n",
    "plt.plot(nwalk,te)\n",
    "plt.title(labels[0])\n",
    "plt.yscale(\"log\")\n",
    "plt.ylabel(\"running time (log(s))\")\n",
    "plt.xlabel(\"number of walkers\")\n",
    "\n",
    "plt.figure(2)\n",
    "plt.plot(nwalk,tz)\n",
    "plt.title(labels[1])\n",
    "plt.yscale(\"log\")\n",
    "plt.ylabel(\"running time (log(s))\")\n",
    "plt.xlabel(\"number of walkers\")\n",
    "\n",
    "plt.figure(3)\n",
    "plt.plot(lp,td)\n",
    "plt.title(labels[2])\n",
    "plt.yscale(\"log\")\n",
    "plt.ylabel(\"running time (log(s))\")\n",
    "plt.xlabel(\"number of live points\")\n",
    "\n",
    "plt.figure(4)\n",
    "plt.plot(nwalk,te)\n",
    "plt.plot(nwalk,tz)\n",
    "plt.yscale(\"log\")\n",
    "plt.ylabel(\"running time (log(s))\")\n",
    "plt.xlabel(\"number of walkers\")\n",
    "plt.legend([labels[0],labels[1]])\n",
    "\n",
    "plt.figure(5)\n",
    "plt.plot(iters,tem)\n",
    "plt.title(labels[0])\n",
    "plt.yscale(\"log\")\n",
    "plt.ylabel(\"running time (log(s))\")\n",
    "plt.xlabel(\"iterations\")\n",
    "\n",
    "plt.figure(6)\n",
    "plt.plot(iters,tze)\n",
    "plt.title(labels[1])\n",
    "plt.yscale(\"log\")\n",
    "plt.ylabel(\"running time (log(s))\")\n",
    "plt.xlabel(\"iterations\")\n",
    "\n",
    "plt.figure(7)\n",
    "plt.plot(iters,tem)\n",
    "plt.plot(iters,tze)\n",
    "plt.yscale(\"log\")\n",
    "plt.ylabel(\"running time (log(s))\")\n",
    "plt.xlabel(\"iterations\")\n",
    "plt.legend([labels[0],labels[1]])"
   ]
  },
  {
   "cell_type": "code",
   "execution_count": null,
   "metadata": {},
   "outputs": [],
   "source": []
  },
  {
   "cell_type": "code",
   "execution_count": null,
   "metadata": {},
   "outputs": [],
   "source": []
  },
  {
   "cell_type": "code",
   "execution_count": null,
   "metadata": {},
   "outputs": [],
   "source": []
  }
 ],
 "metadata": {
  "kernelspec": {
   "display_name": "Python 3",
   "language": "python",
   "name": "python3"
  },
  "language_info": {
   "codemirror_mode": {
    "name": "ipython",
    "version": 3
   },
   "file_extension": ".py",
   "mimetype": "text/x-python",
   "name": "python",
   "nbconvert_exporter": "python",
   "pygments_lexer": "ipython3",
   "version": "3.7.6"
  }
 },
 "nbformat": 4,
 "nbformat_minor": 4
}
